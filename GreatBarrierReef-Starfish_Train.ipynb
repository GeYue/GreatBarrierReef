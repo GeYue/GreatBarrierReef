{
 "cells": [
  {
   "cell_type": "code",
   "execution_count": 1,
   "id": "779b7eb0",
   "metadata": {},
   "outputs": [],
   "source": [
    "import os\n",
    "import numpy as np # linear algebra\n",
    "import pandas as pd # data processing, CSV file I/O (e.g. pd.read_csv)\n",
    "from shutil import copyfile"
   ]
  },
  {
   "cell_type": "code",
   "execution_count": 2,
   "id": "c1f3495f",
   "metadata": {},
   "outputs": [],
   "source": [
    "train = pd.read_csv('./input/train.csv')\n",
    "train['pos'] = train.annotations != '[]'"
   ]
  },
  {
   "cell_type": "code",
   "execution_count": 3,
   "id": "3be562a6",
   "metadata": {},
   "outputs": [],
   "source": [
    "!mkdir -p ./yolo_data/train/images\n",
    "!mkdir -p ./yolo_data/train/labels    "
   ]
  },
  {
   "cell_type": "code",
   "execution_count": 4,
   "id": "259f8715",
   "metadata": {},
   "outputs": [],
   "source": [
    "for idx, x in train.iterrows():\n",
    "    #if not x.pos: continue\n",
    "    copyfile(f'./input/train_images/video_{x.video_id}/{x.video_frame}.jpg',\n",
    "            f'./yolo_data/train/images/{x.image_id}.jpg')\n",
    "    anno = eval(x.annotations)\n",
    "    r = ''\n",
    "    for an in anno:\n",
    "        r += '0 {} {} {} {}\\n'.format((an['x'] + an['width'] / 2) / 1280,\n",
    "                                      (an['y'] + an['height'] / 2) / 720,\n",
    "                                      an['width'] / 1280,\n",
    "                                      an['height'] / 720)\n",
    "        \n",
    "    with open(f'./yolo_data/train/labels/{x.image_id}.txt', 'a') as fp:\n",
    "        fp.write(r)\n"
   ]
  },
  {
   "cell_type": "code",
   "execution_count": 50,
   "id": "7b1d839c",
   "metadata": {},
   "outputs": [],
   "source": [
    "hyps = '''\n",
    "# YOLOv5 by Ultralytics, GPL-3.0 license\n",
    "# Hyperparameters for COCO training from scratch\n",
    "# python train.py --batch 40 --cfg yolov5m.yaml --weights '' --data coco.yaml --img 640 --epochs 300\n",
    "# See tutorials for hyperparameter evolution https://github.com/ultralytics/yolov5#tutorials\n",
    "\n",
    "lr0: 0.01  # initial learning rate (SGD=1E-2, Adam=1E-3)\n",
    "lrf: 0.1  # final OneCycleLR learning rate (lr0 * lrf)\n",
    "momentum: 0.937  # SGD momentum/Adam beta1\n",
    "weight_decay: 0.0005  # optimizer weight decay 5e-4\n",
    "warmup_epochs: 3.0  # warmup epochs (fractions ok)\n",
    "warmup_momentum: 0.8  # warmup initial momentum\n",
    "warmup_bias_lr: 0.1  # warmup initial bias lr\n",
    "box: 0.05  # box loss gain\n",
    "cls: 0.5  # cls loss gain\n",
    "cls_pw: 1.0  # cls BCELoss positive_weight\n",
    "obj: 1.0  # obj loss gain (scale with pixels)\n",
    "obj_pw: 1.0  # obj BCELoss positive_weight\n",
    "iou_t: 0.20  # IoU training threshold\n",
    "anchor_t: 4.0  # anchor-multiple threshold\n",
    "# anchors: 3  # anchors per output layer (0 to ignore)\n",
    "fl_gamma: 0.0  # focal loss gamma (efficientDet default gamma=1.5)\n",
    "hsv_h: 0.015  # image HSV-Hue augmentation (fraction)\n",
    "hsv_s: 0.7  # image HSV-Saturation augmentation (fraction)\n",
    "hsv_v: 0.4  # image HSV-Value augmentation (fraction)\n",
    "degrees: 0.0  # image rotation (+/- deg)\n",
    "translate: 0.1  # image translation (+/- fraction)\n",
    "scale: 0.5  # image scale (+/- gain)\n",
    "shear: 0.0  # image shear (+/- deg)\n",
    "perspective: 0.0  # image perspective (+/- fraction), range 0-0.001\n",
    "flipud: 0.5  # image flip up-down (probability)\n",
    "fliplr: 0.5  # image flip left-right (probability)\n",
    "mosaic: 1.0  # image mosaic (probability)\n",
    "mixup: 0.5  # image mixup (probability)\n",
    "copy_paste: 0.0  # segment copy-paste (probability)\n",
    "'''"
   ]
  },
  {
   "cell_type": "code",
   "execution_count": 62,
   "id": "d364da83",
   "metadata": {},
   "outputs": [],
   "source": [
    "data = '''\n",
    "# Train/val/test sets as 1) dir: path/to/imgs, 2) file: path/to/imgs.txt, or 3) list: [path/to/imgs1, path/to/imgs2, ..]\n",
    "path: /home/xyb/Project/Kaggle/GreatBarrierReef/yolo_data/  # dataset root dir\n",
    "train: train/images  # train images (relative to 'path') 128 images\n",
    "val: val/images  # val images (relative to 'path') 128 images\n",
    "#test:  # test images (optional)\n",
    "\n",
    "# Classes\n",
    "nc: 1  # number of classes\n",
    "names: ['reef']  # class names\n",
    "\n",
    "\n",
    "# Download script/URL (optional)\n",
    "# download: https://ultralytics.com/assets/coco128.zip\n",
    "'''"
   ]
  },
  {
   "cell_type": "code",
   "execution_count": 63,
   "id": "932ae49a",
   "metadata": {},
   "outputs": [
    {
     "name": "stdout",
     "output_type": "stream",
     "text": [
      "/home/xyb/Project/Git/yolov5\n",
      "CONTRIBUTING.md  export.py   __pycache__/\tsetup.cfg\tval.py\r\n",
      "data/\t\t hubconf.py  README.md\t\ttrain.py\r\n",
      "detect.py\t LICENSE     requirements.txt*\ttutorial.ipynb\r\n",
      "Dockerfile\t models/     runs/\t\tutils/\r\n"
     ]
    }
   ],
   "source": [
    "%cd ~/Project/Git/yolov5\n",
    "!ls -F"
   ]
  },
  {
   "cell_type": "code",
   "execution_count": 64,
   "id": "c4e898b2",
   "metadata": {},
   "outputs": [
    {
     "name": "stdout",
     "output_type": "stream",
     "text": [
      "/home/xyb/Project/Git/yolov5\n"
     ]
    }
   ],
   "source": [
    "print(os.getcwd())\n",
    "with open('./data/GBR_Starfish_Detection.yaml', 'a') as fp:\n",
    "    fp.write(data)\n",
    "with open('./data/hyps/GBR_Startfish_Hpy.yaml', 'a') as fp:\n",
    "    fp.write(hyps)"
   ]
  },
  {
   "cell_type": "code",
   "execution_count": 61,
   "id": "676c88e0",
   "metadata": {},
   "outputs": [
    {
     "name": "stdout",
     "output_type": "stream",
     "text": [
      "\u001b[34m\u001b[1mwandb\u001b[0m: (1) Create a W&B account\n",
      "\u001b[34m\u001b[1mwandb\u001b[0m: (2) Use an existing W&B account\n",
      "\u001b[34m\u001b[1mwandb\u001b[0m: (3) Don't visualize my results\n",
      "\u001b[34m\u001b[1mwandb\u001b[0m: Enter your choice: (30 second timeout) \n",
      "\u001b[34m\u001b[1mwandb\u001b[0m: W&B disabled due to login timeout.\n",
      "\u001b[34m\u001b[1mtrain: \u001b[0mweights=yolov5s6.pt, cfg=, data=data/GBR_Starfish_Detection.yaml, hyp=data/hyps/GBR_Startfish_Hpy.yaml, epochs=5, batch_size=4, imgsz=3000, rect=False, resume=False, nosave=False, noval=False, noautoanchor=False, evolve=None, bucket=, cache=None, image_weights=False, device=, multi_scale=False, single_cls=False, optimizer=SGD, sync_bn=False, workers=8, project=runs/train, name=GBR-Starfish-Detect, exist_ok=False, quad=False, linear_lr=False, label_smoothing=0.0, patience=100, freeze=[0], save_period=-1, local_rank=-1, entity=None, upload_dataset=False, bbox_interval=-1, artifact_alias=latest\n",
      "\u001b[34m\u001b[1mgithub: \u001b[0mup to date with https://github.com/ultralytics/yolov5 ✅\n",
      "YOLOv5 🚀 v6.0-197-g0cf932b torch 1.8.1+cu111 CUDA:0 (NVIDIA GeForce RTX 3090, 24260MiB)\n",
      "\n",
      "\u001b[34m\u001b[1mhyperparameters: \u001b[0mlr0=0.01, lrf=0.1, momentum=0.937, weight_decay=0.0005, warmup_epochs=3.0, warmup_momentum=0.8, warmup_bias_lr=0.1, box=0.05, cls=0.5, cls_pw=1.0, obj=1.0, obj_pw=1.0, iou_t=0.2, anchor_t=4.0, fl_gamma=0.0, hsv_h=0.015, hsv_s=0.7, hsv_v=0.4, degrees=0.0, translate=0.1, scale=0.5, shear=0.0, perspective=0.0, flipud=0.5, fliplr=0.5, mosaic=1.0, mixup=0.5, copy_paste=0.0\n",
      "\u001b[34m\u001b[1mWeights & Biases: \u001b[0mrun 'pip install wandb' to automatically track and visualize YOLOv5 🚀 runs (RECOMMENDED)\n",
      "\u001b[34m\u001b[1mTensorBoard: \u001b[0mStart with 'tensorboard --logdir runs/train', view at http://localhost:6006/\n",
      "\n",
      "WARNING: Dataset not found, nonexistent paths: ['/home/xyb/Project/Kaggle/GreatBarrierReef/yolo_data/images/val']\n",
      "Traceback (most recent call last):\n",
      "  File \"train.py\", line 636, in <module>\n",
      "    main(opt)\n",
      "  File \"train.py\", line 533, in main\n",
      "    train(opt.hyp, opt, device, callbacks)\n",
      "  File \"train.py\", line 110, in train\n",
      "    data_dict = data_dict or check_dataset(data)  # check if None\n",
      "  File \"/home/xyb/Project/Git/yolov5/utils/general.py\", line 427, in check_dataset\n",
      "    raise Exception('Dataset not found.')\n",
      "Exception: Dataset not found.\n"
     ]
    }
   ],
   "source": [
    "!python train.py --img 3000 --batch 4 --epochs 5 --data data/GBR_Starfish_Detection.yaml --weights yolov5s6.pt --name GBR-Starfish-Detect --hyp data/hyps/GBR_Startfish_Hpy.yaml"
   ]
  },
  {
   "cell_type": "code",
   "execution_count": null,
   "id": "c3591b7d",
   "metadata": {},
   "outputs": [],
   "source": []
  }
 ],
 "metadata": {
  "kernelspec": {
   "display_name": "Python 3",
   "language": "python",
   "name": "python3"
  },
  "language_info": {
   "codemirror_mode": {
    "name": "ipython",
    "version": 3
   },
   "file_extension": ".py",
   "mimetype": "text/x-python",
   "name": "python",
   "nbconvert_exporter": "python",
   "pygments_lexer": "ipython3",
   "version": "3.8.10"
  }
 },
 "nbformat": 4,
 "nbformat_minor": 5
}
